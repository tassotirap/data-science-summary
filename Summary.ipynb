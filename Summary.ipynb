{
 "cells": [
  {
   "cell_type": "markdown",
   "metadata": {},
   "source": [
    "Mean\n",
    "\\begin{align}\n",
    "\\bar x = \\frac{\\sum_{i=1}^n x_i}{n}\n",
    "\\end{align}\n",
    "\n",
    "Variance\n",
    "\\begin{align}\n",
    "\\sigma^2 = \\frac{\\sum_{i=1}^n (\\bar x - x_i)^2}{n}\n",
    "\\end{align}\n",
    "\n",
    "Standard Deviation (Population)\n",
    "\\begin{align}\n",
    "\\sigma = \\sqrt{\\frac{\\sum_{i=1}^n (\\bar x - x_i)^2}{n}}\n",
    "\\end{align}\n",
    "\n",
    "Standard Deviation (Sample)\n",
    "\\begin{align}\n",
    "s = \\sqrt{\\frac{\\sum_{i=1}^n (\\bar x - x_i)^2}{n-1}}\n",
    "\\end{align}\n",
    "\n",
    "Standard Error\n",
    "\\begin{align}\n",
    "SE = \\frac{\\sigma}{\\sqrt n}\n",
    "\\end{align}\n",
    "\n",
    "z-score\n",
    "\\begin{align}\n",
    "z = \\frac{x - \\mu}{\\sigma}\n",
    "\\end{align}\n",
    "\n",
    "Margin of error\n",
    "\\begin{align}\n",
    "ME = Z^* \\frac{\\sigma}{\\sqrt{n}}\n",
    "\\end{align}\n",
    "\n",
    "Confidence Interval\n",
    "\\begin{align}\n",
    "CI = \\bar x \\pm Z^* \\frac{\\sigma}{\\sqrt{n}}\n",
    "\\end{align}"
   ]
  },
  {
   "cell_type": "markdown",
   "metadata": {},
   "source": [
    "t-stat\n",
    "\\begin{align}\n",
    "t = \\frac{\\bar x - \\mu}{\\frac{\\sigma}{\\sqrt{n}}}\n",
    "\\end{align}\n",
    "\n",
    "df\n",
    "\\begin{align}\n",
    "df = n - 1\n",
    "\\end{align}\n",
    "\n",
    "Cohen’s d\n",
    "\\begin{align}\n",
    "d = \\frac{\\bar x_1 - \\bar x_2}{s}\n",
    "\\end{align}\n",
    "\n",
    "where\n",
    "\\begin{align}\n",
    "s = \\sqrt{\\frac{(n_1-1)s_1^2+(n_2-1)s_2^2}{n_1+n_2-2}}\n",
    "\\end{align}\n",
    "\n",
    "Standard Error\n",
    "\\begin{align}\n",
    "SE = \\sqrt{\\frac{S_1^2}{n_1}+\\frac{S_2^2}{n_2}}\n",
    "\\end{align}\n",
    "\n",
    "Pooled Variance\n",
    "\\begin{align}\n",
    "S_p^2 = \\frac{SS_1+SS_2}{df_1+df_2}\n",
    "\\end{align}\n",
    "\n",
    "New Standard Error\n",
    "\\begin{align}\n",
    "SE = \\sqrt{\\frac{S_p^2}{n_1}+\\frac{S_p^2}{n_2}}\n",
    "\\end{align}\n",
    "\n",
    "Percentual de variabilidade"
   ]
  },
  {
   "cell_type": "markdown",
   "metadata": {},
   "source": [
    "R2 mede a proporção de uma diferença nas médias que pode ser explicada pela variável independente.\n",
    "\n",
    "O d de Cohen é a medida do tamanho do efeito.\n"
   ]
  },
  {
   "cell_type": "code",
   "execution_count": null,
   "metadata": {},
   "outputs": [],
   "source": []
  }
 ],
 "metadata": {
  "kernelspec": {
   "display_name": "Python 2",
   "language": "python",
   "name": "python2"
  },
  "language_info": {
   "codemirror_mode": {
    "name": "ipython",
    "version": 2
   },
   "file_extension": ".py",
   "mimetype": "text/x-python",
   "name": "python",
   "nbconvert_exporter": "python",
   "pygments_lexer": "ipython2",
   "version": "2.7.14"
  }
 },
 "nbformat": 4,
 "nbformat_minor": 2
}
